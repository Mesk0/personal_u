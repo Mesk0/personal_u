{
 "cells": [
  {
   "cell_type": "code",
   "execution_count": null,
   "metadata": {},
   "outputs": [],
   "source": []
  }
 ],
 "metadata": {
  "kernelspec": {
   "display_name": "Python 3",
   "language": "python",
   "name": "python3"
  },
  "language_info": {
   "name": "python",
   "version": "3.11.0"
  },
  "orig_nbformat": 4,
  "vscode": {
   "interpreter": {
    "hash": "c85205b98c181bfde75ad8c166021130d0204d36cde05c8759c93c66eb388607"
   }
  }
 },
 "nbformat": 4,
 "nbformat_minor": 2
}
