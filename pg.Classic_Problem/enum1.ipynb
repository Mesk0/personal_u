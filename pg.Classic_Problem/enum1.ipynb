{
 "cells": [
  {
   "attachments": {},
   "cell_type": "markdown",
   "metadata": {},
   "source": [
    "### 1.创建\n",
    "枚举的定义可以通过**继承 Enum 的方式来实现**"
   ]
  },
  {
   "cell_type": "code",
   "execution_count": 1,
   "metadata": {},
   "outputs": [],
   "source": [
    "from enum import Enum\n",
    "\n",
    "class WeekDay(Enum):\n",
    "    Mon = 0\n",
    "    Tue = 1\n",
    "    Wed = 2\n",
    "    Thu = 3\n",
    "    Fri = 4"
   ]
  },
  {
   "attachments": {},
   "cell_type": "markdown",
   "metadata": {},
   "source": [
    "### 2.访问\n"
   ]
  },
  {
   "cell_type": "code",
   "execution_count": 2,
   "metadata": {},
   "outputs": [
    {
     "name": "stdout",
     "output_type": "stream",
     "text": [
      "WeekDay.Mon\n",
      "Mon\n",
      "0\n"
     ]
    }
   ],
   "source": [
    "# 枚举成员\n",
    "print(WeekDay.Mon)\n",
    "# 枚举成员名称\n",
    "print(WeekDay.Mon.name)\n",
    "# 枚举成员值\n",
    "print(WeekDay.Mon.value)"
   ]
  },
  {
   "attachments": {},
   "cell_type": "markdown",
   "metadata": {},
   "source": [
    "### 3.枚举的迭代"
   ]
  },
  {
   "cell_type": "code",
   "execution_count": 3,
   "metadata": {},
   "outputs": [
    {
     "name": "stdout",
     "output_type": "stream",
     "text": [
      "WeekDay.Mon\n",
      "Mon\n",
      "0\n",
      "WeekDay.Tue\n",
      "Tue\n",
      "1\n",
      "WeekDay.Wed\n",
      "Wed\n",
      "2\n",
      "WeekDay.Thu\n",
      "Thu\n",
      "3\n",
      "WeekDay.Fri\n",
      "Fri\n",
      "4\n",
      "[<WeekDay.Mon: 0>, <WeekDay.Tue: 1>, <WeekDay.Wed: 2>, <WeekDay.Thu: 3>, <WeekDay.Fri: 4>]\n"
     ]
    }
   ],
   "source": [
    "# 方式 1\n",
    "for day in WeekDay:\n",
    "    # 枚举成员\n",
    "    print(day)\n",
    "    # 枚举成员名称\n",
    "    print(day.name)\n",
    "    # 枚举成员值\n",
    "    print(day.value)\n",
    "\n",
    "# 方式 2\n",
    "print(list(WeekDay))"
   ]
  },
  {
   "attachments": {},
   "cell_type": "markdown",
   "metadata": {},
   "source": [
    "### 4.比较"
   ]
  },
  {
   "cell_type": "code",
   "execution_count": 4,
   "metadata": {},
   "outputs": [
    {
     "name": "stdout",
     "output_type": "stream",
     "text": [
      "False\n",
      "True\n",
      "True\n",
      "True\n"
     ]
    }
   ],
   "source": [
    "print(WeekDay.Mon is WeekDay.Thu)\n",
    "print(WeekDay.Mon == WeekDay.Mon)\n",
    "print(WeekDay.Mon.name == WeekDay.Mon.name)\n",
    "print(WeekDay.Mon.value == WeekDay.Mon.value)"
   ]
  },
  {
   "cell_type": "code",
   "execution_count": null,
   "metadata": {},
   "outputs": [],
   "source": []
  }
 ],
 "metadata": {
  "kernelspec": {
   "display_name": "Python 3",
   "language": "python",
   "name": "python3"
  },
  "language_info": {
   "codemirror_mode": {
    "name": "ipython",
    "version": 3
   },
   "file_extension": ".py",
   "mimetype": "text/x-python",
   "name": "python",
   "nbconvert_exporter": "python",
   "pygments_lexer": "ipython3",
   "version": "3.11.0"
  },
  "orig_nbformat": 4,
  "vscode": {
   "interpreter": {
    "hash": "c85205b98c181bfde75ad8c166021130d0204d36cde05c8759c93c66eb388607"
   }
  }
 },
 "nbformat": 4,
 "nbformat_minor": 2
}
