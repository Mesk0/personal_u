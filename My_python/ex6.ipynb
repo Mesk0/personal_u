{
 "cells": [
  {
   "cell_type": "code",
   "execution_count": 7,
   "metadata": {},
   "outputs": [
    {
     "data": {
      "text/plain": [
       "'Calculates the square of the number x.'"
      ]
     },
     "execution_count": 7,
     "metadata": {},
     "output_type": "execute_result"
    }
   ],
   "source": [
    "def square(x):\n",
    "    'Calculates the square of the number x.'\n",
    "    return x * x\n",
    "\n",
    "square.__doc__"
   ]
  },
  {
   "cell_type": "code",
   "execution_count": 3,
   "metadata": {},
   "outputs": [
    {
     "name": "stdout",
     "output_type": "stream",
     "text": [
      "Help on function square in module __main__:\n",
      "\n",
      "square(x)\n",
      "    Calculates the square of the number x.\n",
      "\n"
     ]
    }
   ],
   "source": [
    "help(square)"
   ]
  },
  {
   "cell_type": "code",
   "execution_count": 5,
   "metadata": {},
   "outputs": [],
   "source": [
    "def test():\n",
    "    print('This is printed')\n",
    "    return\n",
    "    print('This is not')"
   ]
  },
  {
   "cell_type": "code",
   "execution_count": 6,
   "metadata": {},
   "outputs": [
    {
     "name": "stdout",
     "output_type": "stream",
     "text": [
      "This is printed\n"
     ]
    }
   ],
   "source": [
    "x = test()"
   ]
  },
  {
   "cell_type": "code",
   "execution_count": 8,
   "metadata": {},
   "outputs": [],
   "source": [
    "x"
   ]
  },
  {
   "cell_type": "code",
   "execution_count": 9,
   "metadata": {},
   "outputs": [
    {
     "name": "stdout",
     "output_type": "stream",
     "text": [
      "None\n"
     ]
    }
   ],
   "source": [
    "print(x)"
   ]
  },
  {
   "cell_type": "code",
   "execution_count": 10,
   "metadata": {},
   "outputs": [
    {
     "data": {
      "text/plain": [
       "'Mrs. Entity'"
      ]
     },
     "execution_count": 10,
     "metadata": {},
     "output_type": "execute_result"
    }
   ],
   "source": [
    "def try_to_change(n):\n",
    "\tn = 'Mr. Gumby'\n",
    "\n",
    "        \n",
    "name = 'Mrs. Entity'\n",
    "try_to_change(name)\n",
    "name"
   ]
  },
  {
   "cell_type": "code",
   "execution_count": 11,
   "metadata": {},
   "outputs": [
    {
     "data": {
      "text/plain": [
       "['Mr. Gumby', 'Mrs. Thing']"
      ]
     },
     "execution_count": 11,
     "metadata": {},
     "output_type": "execute_result"
    }
   ],
   "source": [
    "def change(n):\n",
    "    n[0] = 'Mr. Gumby'\n",
    "\n",
    "names = ['Mrs. Entity', 'Mrs. Thing']\n",
    "change(names)\n",
    "names"
   ]
  },
  {
   "cell_type": "code",
   "execution_count": 12,
   "metadata": {},
   "outputs": [
    {
     "data": {
      "text/plain": [
       "False"
      ]
     },
     "execution_count": 12,
     "metadata": {},
     "output_type": "execute_result"
    }
   ],
   "source": [
    "names = ['Mrs. Entity', 'Mrs. Thing']\n",
    "n = names[:]\n",
    "n is names\n"
   ]
  },
  {
   "cell_type": "code",
   "execution_count": 13,
   "metadata": {},
   "outputs": [
    {
     "data": {
      "text/plain": [
       "True"
      ]
     },
     "execution_count": 13,
     "metadata": {},
     "output_type": "execute_result"
    }
   ],
   "source": [
    "n == names"
   ]
  },
  {
   "cell_type": "code",
   "execution_count": 14,
   "metadata": {},
   "outputs": [],
   "source": [
    "storage={}\n",
    "storage['first']={}\n",
    "storage['middle']={}\n",
    "storage['last']={}"
   ]
  },
  {
   "cell_type": "code",
   "execution_count": 15,
   "metadata": {},
   "outputs": [],
   "source": [
    "me = 'Magnus Lie Hetland'\n",
    "storage['first']['Magnus'] = [me]\n",
    "storage['middle']['Lie'] = [me]\n",
    "storage['last']['Hetland'] = [me]"
   ]
  },
  {
   "cell_type": "code",
   "execution_count": 16,
   "metadata": {},
   "outputs": [
    {
     "data": {
      "text/plain": [
       "['Magnus Lie Hetland']"
      ]
     },
     "execution_count": 16,
     "metadata": {},
     "output_type": "execute_result"
    }
   ],
   "source": [
    "storage['middle']['Lie']"
   ]
  },
  {
   "cell_type": "code",
   "execution_count": 17,
   "metadata": {},
   "outputs": [
    {
     "data": {
      "text/plain": [
       "['Anne Lie Hetland']"
      ]
     },
     "execution_count": 17,
     "metadata": {},
     "output_type": "execute_result"
    }
   ],
   "source": [
    "my_sister = 'Anne Lie Hetland'\n",
    "storage['first'].setdefault('Anne', []).append(my_sister)\n",
    "storage['middle'].setdefault('Lie', []).append(my_sister)\n",
    "storage['last'].setdefault('Hetland', []).append(my_sister)\n",
    "storage['first']['Anne']"
   ]
  },
  {
   "cell_type": "code",
   "execution_count": 24,
   "metadata": {},
   "outputs": [
    {
     "data": {
      "text/plain": [
       "{'first': {}, 'middle': {}, 'last': {}}"
      ]
     },
     "execution_count": 24,
     "metadata": {},
     "output_type": "execute_result"
    }
   ],
   "source": [
    "def init(data):\n",
    "\tdata['first'] = {}\n",
    "\tdata['middle'] = {}\n",
    "\tdata['last'] = {}\n",
    "\n",
    "def lookup(data, label, name):\n",
    "    return data[label].get(name)\n",
    "\t\n",
    "storage = {}\n",
    "init(storage)\n",
    "lookup(storage, 'middle', 'Lie')\n",
    "storage"
   ]
  },
  {
   "cell_type": "code",
   "execution_count": 27,
   "metadata": {},
   "outputs": [
    {
     "ename": "AttributeError",
     "evalue": "type object 'str' has no attribute 'insert'",
     "output_type": "error",
     "traceback": [
      "\u001b[1;31m---------------------------------------------------------------------------\u001b[0m",
      "\u001b[1;31mAttributeError\u001b[0m                            Traceback (most recent call last)",
      "Cell \u001b[1;32mIn[27], line 1\u001b[0m\n\u001b[1;32m----> 1\u001b[0m help(\u001b[39mstr\u001b[39;49m\u001b[39m.\u001b[39;49minsert)\n",
      "\u001b[1;31mAttributeError\u001b[0m: type object 'str' has no attribute 'insert'"
     ]
    }
   ],
   "source": []
  }
 ],
 "metadata": {
  "kernelspec": {
   "display_name": "Python 3",
   "language": "python",
   "name": "python3"
  },
  "language_info": {
   "codemirror_mode": {
    "name": "ipython",
    "version": 3
   },
   "file_extension": ".py",
   "mimetype": "text/x-python",
   "name": "python",
   "nbconvert_exporter": "python",
   "pygments_lexer": "ipython3",
   "version": "3.11.0"
  },
  "orig_nbformat": 4,
  "vscode": {
   "interpreter": {
    "hash": "c85205b98c181bfde75ad8c166021130d0204d36cde05c8759c93c66eb388607"
   }
  }
 },
 "nbformat": 4,
 "nbformat_minor": 2
}
