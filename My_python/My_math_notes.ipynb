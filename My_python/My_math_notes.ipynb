{
 "cells": [
  {
   "cell_type": "markdown",
   "metadata": {},
   "source": [
    "## Datatype\n",
    "关于数据类型的基础介绍"
   ]
  },
  {
   "cell_type": "code",
   "execution_count": null,
   "metadata": {},
   "outputs": [],
   "source": [
    "# 切换浮点数\n",
    "x = 3\n",
    "print(float(3))\n",
    "\n",
    "# 数字乘字符串可以使字符串重复,数字类型必须是int\n",
    "name = 'MesK'\n",
    "print(3*name)\n",
    "\n",
    "# type()函数可以显示数据类型\n",
    "a = True\n",
    "print(type(a))\n"
   ]
  },
  {
   "attachments": {},
   "cell_type": "markdown",
   "metadata": {},
   "source": [
    "## complex\n",
    "下面都是一些复数计算的python代码：\n",
    "* 加法\n",
    "* 乘法\n",
    "* 模"
   ]
  },
  {
   "cell_type": "code",
   "execution_count": 1,
   "metadata": {},
   "outputs": [
    {
     "name": "stdout",
     "output_type": "stream",
     "text": [
      "[4, 6]\n",
      "[-5, 10]\n",
      "[-4, 3]\n",
      "2.23606797749979\n"
     ]
    }
   ],
   "source": [
    "from math import sqrt\n",
    "\n",
    "def cAdd(a,b):\n",
    "    return [a[0]+b[0],a[1]+b[1]]\n",
    "\n",
    "def cMult(a,b):\n",
    "    return [a[0]*b[0]-a[1]*b[1],a[0]*b[1]+a[1]*b[0]]\n",
    "\n",
    "def magnitude(z):\n",
    "    return sqrt(z[0]**2 + z[1]**2)\n",
    "\n",
    "# test\n",
    "u = [1, 2]\n",
    "v = [3, 4]\n",
    "# [0, 1]在复平面表示i\n",
    "n = [0, 1]\n",
    "print(cAdd(u,v))\n",
    "print(cMult(u,v))\n",
    "print(cMult(v,n))\n",
    "print(magnitude([2, 1]))\n"
   ]
  },
  {
   "attachments": {},
   "cell_type": "markdown",
   "metadata": {},
   "source": [
    "## Equation\n",
    "下面是一些解方程的python代码实现"
   ]
  },
  {
   "cell_type": "code",
   "execution_count": 2,
   "metadata": {},
   "outputs": [
    {
     "name": "stdout",
     "output_type": "stream",
     "text": [
      "x =  4\n",
      "4.0\n",
      "1.065217391304348\n",
      "(1.5, -5.0)\n",
      "-0.6666669845581055 9.642708896251406e-06\n"
     ]
    }
   ],
   "source": [
    "# 暴力穷举法解一次方程\n",
    "def plug():\n",
    "    x = -100\n",
    "    while x < 100:\n",
    "        if 2*x + 5 == 13:\n",
    "            print(\"x = \", x)\n",
    "        x += 1\n",
    "\n",
    "plug()\n",
    "\n",
    "# 一次方程解法\n",
    "def equation(a, b, c, d):\n",
    "    # ax + b = cx + d\n",
    "    return (d - b)/(a - c)\n",
    "\n",
    "print(equation(2, 5, 0, 13))\n",
    "print(equation(12, 18, -34, 67))\n",
    "\n",
    "# 二次方程求解\n",
    "from math import sqrt\n",
    "\n",
    "def quad(a, b, c):\n",
    "    x1 = (-b+sqrt(b**2-4*a*c))/(2*a)\n",
    "    x2 = (-b-sqrt(b**2-4*a*c))/(2*a)\n",
    "    return x1,x2\n",
    "\n",
    "print(quad(2, 7, -15))\n",
    "\n",
    "# 二分法求根\n",
    "def f(x):\n",
    "    return 6*x**3 + 31*x**2 + 3*x - 10\n",
    "\n",
    "def average(a, b):\n",
    "    return (a+b)/2\n",
    "\n",
    "def guess():\n",
    "    lower = -1\n",
    "    upper = 0\n",
    "    for i in range(20):\n",
    "        midpt = average(lower, upper)\n",
    "        if f(midpt) == 0:\n",
    "            return midpt\n",
    "        elif f(midpt) < 0:\n",
    "            upper = midpt\n",
    "        else:\n",
    "            lower = midpt\n",
    "    return midpt\n",
    "\n",
    "x = guess()\n",
    "\n",
    "print(x,f(x))"
   ]
  },
  {
   "cell_type": "markdown",
   "metadata": {},
   "source": [
    "## Matrices\n",
    "下面是一些基础的矩阵运算的python实现"
   ]
  },
  {
   "cell_type": "code",
   "execution_count": 4,
   "metadata": {},
   "outputs": [
    {
     "name": "stdout",
     "output_type": "stream",
     "text": [
      "[[3, -1], [13, -14]]\n",
      "[[26, -26], [-59, 28]]\n",
      "[[-19, 14]]\n",
      "[[4, -2, 6, 1], [-1, 3, -3, 0]]\n"
     ]
    }
   ],
   "source": [
    "import math\n",
    "\n",
    "A = [[2, 3], [5, -8]]\n",
    "B = [[1, -4], [8, -6]]\n",
    "a = [[1, 2, -3, -1]]\n",
    "b = [[4, -1], [-2, 3], [6, -3], [1, 0]]\n",
    "\n",
    "\n",
    "# a[x][y]中x表示A矩阵的x-1行\n",
    "def addMatrices(u, v):\n",
    "    c = [[u[0][0]+v[0][0], u[0][1]+v[0][1],], [u[1][0]+v[1][0], u[1][1]+v[1][1]]]\n",
    "    return c\n",
    "\n",
    "def multMatrix(u, v):\n",
    "    # m,n分别计算a,b矩阵的行数和列数\n",
    "    m = len(u)\n",
    "    n = len(v[0])\n",
    "    newmatrix = []\n",
    "    # 此矩阵的乘法按照先逐行将矩阵a*矩阵b的各列得出新矩阵的每行的各个元素\n",
    "    # 遍历矩阵a的各行\n",
    "    for i in range(m):\n",
    "        row = []\n",
    "        # 遍历矩阵b的各列\n",
    "        for j in range(n):\n",
    "            sum1 = 0\n",
    "            # 逐个求矩阵a的各行与矩阵b的各列按位置相加的结果，得出新矩阵c的行内元素\n",
    "            for k in range(len(v)):\n",
    "                sum1 += u[i][k]*v[k][j]\n",
    "            # 逐步添加计算的结果，得出新矩阵的行列表\n",
    "            row.append(sum1)\n",
    "        newmatrix.append(row)\n",
    "    return newmatrix\n",
    "\n",
    "def transpose(u):\n",
    "    output = []\n",
    "    m = len(u)\n",
    "    n = len(u[0])\n",
    "    for i in range(n):\n",
    "        output.append([])\n",
    "        for j in range(m):\n",
    "            # 矩阵转置的关键语句\n",
    "            output[i].append(u[j][i])\n",
    "    return output\n",
    "\n",
    "def rottilt(rot,tilt):\n",
    "    rotmatrix_Y = [[math.cos(rot),0.0,math.sin(rot)],\n",
    "                   [0.0,1.0,0.0],\n",
    "                   [-math.sin(rot),0.0,math.cos(rot)]]\n",
    "    rotmatrix_X = [[1.0,0.0,0.0],\n",
    "                   [0.0,math.cos(tilt),math.sin(tilt)],\n",
    "                   [0.0,math.sin(tilt),math.sin(tilt)]]\n",
    "    return multMatrix(rotmatrix_Y,rotmatrix_X)\n",
    "\n",
    "\n",
    "C = addMatrices(A, B)\n",
    "print(C)\n",
    "D = multMatrix(A, B)\n",
    "print(D)\n",
    "E = multMatrix(a, b)\n",
    "print(E)\n",
    "print(transpose(b))\n",
    "\n"
   ]
  }
 ],
 "metadata": {
  "kernelspec": {
   "display_name": "Python 3",
   "language": "python",
   "name": "python3"
  },
  "language_info": {
   "codemirror_mode": {
    "name": "ipython",
    "version": 3
   },
   "file_extension": ".py",
   "mimetype": "text/x-python",
   "name": "python",
   "nbconvert_exporter": "python",
   "pygments_lexer": "ipython3",
   "version": "3.11.0"
  },
  "orig_nbformat": 4,
  "vscode": {
   "interpreter": {
    "hash": "c85205b98c181bfde75ad8c166021130d0204d36cde05c8759c93c66eb388607"
   }
  }
 },
 "nbformat": 4,
 "nbformat_minor": 2
}
