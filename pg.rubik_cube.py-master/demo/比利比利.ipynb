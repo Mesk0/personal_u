{
 "cells": [
  {
   "cell_type": "markdown",
   "id": "56dd11b0",
   "metadata": {},
   "source": [
    "# 魔方自动还原\n",
    "\n",
    "原理步骤：\n",
    "  - 图像识别(openCV)\n",
    "  - 操控电脑(pyautogui)\n",
    "  - 魔方还原(Kociemba)\n",
    "  - 群论工具(group.py)"
   ]
  },
  {
   "cell_type": "code",
   "execution_count": 1,
   "id": "eaa33583",
   "metadata": {},
   "outputs": [
    {
     "name": "stdout",
     "output_type": "stream",
     "text": [
      "e:\\BaiduSyncdisk\\python\\rubik_cube.py-master\\src\n"
     ]
    }
   ],
   "source": [
    "cd ../src"
   ]
  },
  {
   "cell_type": "code",
   "execution_count": 2,
   "id": "639e1c18",
   "metadata": {},
   "outputs": [],
   "source": [
    "from rubik import template, Cube, scale_match\n",
    "from tools import expand_cube"
   ]
  },
  {
   "cell_type": "markdown",
   "id": "947d99de-66f8-48d4-924e-abf541249c49",
   "metadata": {},
   "source": [
    "## 一行代码"
   ]
  },
  {
   "cell_type": "code",
   "execution_count": 6,
   "id": "f05d01fd-1e09-4b4e-97da-e6ec4afe330a",
   "metadata": {
    "collapsed": true,
    "jupyter": {
     "outputs_hidden": true
    },
    "tags": []
   },
   "outputs": [
    {
     "name": "stdout",
     "output_type": "stream",
     "text": [
      "魔方识别完毕\n",
      "还原需要 21 步\n",
      "魔方已还原，请检查\n"
     ]
    },
    {
     "data": {
      "text/plain": [
       "[\"R'\",\n",
       " \"D'\",\n",
       " 'B',\n",
       " 'L',\n",
       " 'U',\n",
       " 'D',\n",
       " 'B',\n",
       " 'D2',\n",
       " 'R',\n",
       " \"L'\",\n",
       " \"F'\",\n",
       " 'B2',\n",
       " 'U2',\n",
       " 'R2',\n",
       " 'L2',\n",
       " \"U'\",\n",
       " 'L2',\n",
       " 'F2',\n",
       " 'D2',\n",
       " 'B2',\n",
       " 'U2']"
      ]
     },
     "execution_count": 6,
     "metadata": {},
     "output_type": "execute_result"
    }
   ],
   "source": [
    "Cube(interval=0.100000001).auto_solve_cube(wait=False)"
   ]
  },
  {
   "cell_type": "markdown",
   "id": "2998acf9",
   "metadata": {},
   "source": [
    "## 图像检测，定位"
   ]
  },
  {
   "cell_type": "code",
   "execution_count": 5,
   "id": "2d647747",
   "metadata": {},
   "outputs": [],
   "source": [
    "# 初始化\n",
    "cube = Cube(interval=0.12)"
   ]
  },
  {
   "cell_type": "code",
   "execution_count": 7,
   "id": "c30d68cc",
   "metadata": {},
   "outputs": [
    {
     "ename": "error",
     "evalue": "OpenCV(4.6.0) D:\\a\\opencv-python\\opencv-python\\opencv\\modules\\highgui\\src\\window_w32.cpp:1261: error: (-27:Null pointer) NULL window: 'image' in function 'cvDestroyWindow'\n",
     "output_type": "error",
     "traceback": [
      "\u001b[1;31m---------------------------------------------------------------------------\u001b[0m",
      "\u001b[1;31merror\u001b[0m                                     Traceback (most recent call last)",
      "Cell \u001b[1;32mIn[7], line 2\u001b[0m\n\u001b[0;32m      1\u001b[0m \u001b[39m# 显示识别结果\u001b[39;00m\n\u001b[1;32m----> 2\u001b[0m cube\u001b[39m.\u001b[39;49mshow_dectition()\n",
      "File \u001b[1;32me:\\BaiduSyncdisk\\python\\rubik_cube.py-master\\src\\rubik.py:98\u001b[0m, in \u001b[0;36mCube.show_dectition\u001b[1;34m(self)\u001b[0m\n\u001b[0;32m     96\u001b[0m \u001b[39mdef\u001b[39;00m \u001b[39mshow_dectition\u001b[39m(\u001b[39mself\u001b[39m):\n\u001b[0;32m     97\u001b[0m     \u001b[39m\"\"\"显示检查到的图像\"\"\"\u001b[39;00m\n\u001b[1;32m---> 98\u001b[0m     show_image(draw_rectangle(\u001b[39mself\u001b[39;49m\u001b[39m.\u001b[39;49mimage, template\u001b[39m.\u001b[39;49mshape, \u001b[39mself\u001b[39;49m\u001b[39m.\u001b[39;49mLoc, \u001b[39mself\u001b[39;49m\u001b[39m.\u001b[39;49mratio))\n",
      "File \u001b[1;32me:\\BaiduSyncdisk\\python\\rubik_cube.py-master\\src\\scale_match.py:11\u001b[0m, in \u001b[0;36mshow_image\u001b[1;34m(img, title, close)\u001b[0m\n\u001b[0;32m      9\u001b[0m cv2\u001b[39m.\u001b[39mwaitKey(\u001b[39m0\u001b[39m)\n\u001b[0;32m     10\u001b[0m \u001b[39mif\u001b[39;00m close:\n\u001b[1;32m---> 11\u001b[0m     cv2\u001b[39m.\u001b[39;49mdestroyWindow(title)\n",
      "\u001b[1;31merror\u001b[0m: OpenCV(4.6.0) D:\\a\\opencv-python\\opencv-python\\opencv\\modules\\highgui\\src\\window_w32.cpp:1261: error: (-27:Null pointer) NULL window: 'image' in function 'cvDestroyWindow'\n"
     ]
    }
   ],
   "source": [
    "# 显示识别结果\n",
    "cube.show_dectition()"
   ]
  },
  {
   "cell_type": "code",
   "execution_count": 8,
   "id": "094bf237",
   "metadata": {
    "tags": []
   },
   "outputs": [
    {
     "ename": "error",
     "evalue": "OpenCV(4.6.0) D:\\a\\opencv-python\\opencv-python\\opencv\\modules\\highgui\\src\\window_w32.cpp:1261: error: (-27:Null pointer) NULL window: 'Template' in function 'cvDestroyWindow'\n",
     "output_type": "error",
     "traceback": [
      "\u001b[1;31m---------------------------------------------------------------------------\u001b[0m",
      "\u001b[1;31merror\u001b[0m                                     Traceback (most recent call last)",
      "Cell \u001b[1;32mIn[8], line 4\u001b[0m\n\u001b[0;32m      1\u001b[0m \u001b[39m# 实际识别过程\u001b[39;00m\n\u001b[0;32m      2\u001b[0m \u001b[39m## Canny 化 => 从小到大放缩匹配\u001b[39;00m\n\u001b[0;32m      3\u001b[0m image \u001b[39m=\u001b[39m cube\u001b[39m.\u001b[39mimage\n\u001b[1;32m----> 4\u001b[0m _, Loc, ratio \u001b[39m=\u001b[39m scale_match(image, template, show\u001b[39m=\u001b[39;49m\u001b[39mTrue\u001b[39;49;00m)\n",
      "File \u001b[1;32me:\\BaiduSyncdisk\\python\\rubik_cube.py-master\\src\\scale_match.py:47\u001b[0m, in \u001b[0;36mscale_match\u001b[1;34m(image, template, num_step, show)\u001b[0m\n\u001b[0;32m     45\u001b[0m template \u001b[39m=\u001b[39m cv2\u001b[39m.\u001b[39mCanny(template, \u001b[39m50\u001b[39m, \u001b[39m200\u001b[39m)\n\u001b[0;32m     46\u001b[0m \u001b[39m# 显示图片\u001b[39;00m\n\u001b[1;32m---> 47\u001b[0m \u001b[39mif\u001b[39;00m show:show_image(template, \u001b[39m\"\u001b[39;49m\u001b[39mTemplate\u001b[39;49m\u001b[39m\"\u001b[39;49m)\n\u001b[0;32m     49\u001b[0m \u001b[39m# 目标图的边缘检测\u001b[39;00m\n\u001b[0;32m     50\u001b[0m gray \u001b[39m=\u001b[39m cv2\u001b[39m.\u001b[39mcvtColor(image, cv2\u001b[39m.\u001b[39mCOLOR_BGR2GRAY)\n",
      "File \u001b[1;32me:\\BaiduSyncdisk\\python\\rubik_cube.py-master\\src\\scale_match.py:11\u001b[0m, in \u001b[0;36mshow_image\u001b[1;34m(img, title, close)\u001b[0m\n\u001b[0;32m      9\u001b[0m cv2\u001b[39m.\u001b[39mwaitKey(\u001b[39m0\u001b[39m)\n\u001b[0;32m     10\u001b[0m \u001b[39mif\u001b[39;00m close:\n\u001b[1;32m---> 11\u001b[0m     cv2\u001b[39m.\u001b[39;49mdestroyWindow(title)\n",
      "\u001b[1;31merror\u001b[0m: OpenCV(4.6.0) D:\\a\\opencv-python\\opencv-python\\opencv\\modules\\highgui\\src\\window_w32.cpp:1261: error: (-27:Null pointer) NULL window: 'Template' in function 'cvDestroyWindow'\n"
     ]
    }
   ],
   "source": [
    "# 实际识别过程\n",
    "## Canny 化 => 从小到大放缩匹配\n",
    "image = cube.image\n",
    "_, Loc, ratio = scale_match(image, template, show=True)"
   ]
  },
  {
   "cell_type": "code",
   "execution_count": null,
   "id": "22bffb1a",
   "metadata": {},
   "outputs": [],
   "source": [
    "# 放缩匹配代码：scale_match.py \n",
    "# 图像允许一定范围内的放缩，必要时可修改参数"
   ]
  },
  {
   "cell_type": "markdown",
   "id": "1f8ff03a",
   "metadata": {},
   "source": [
    "## 计算位置"
   ]
  },
  {
   "cell_type": "code",
   "execution_count": 9,
   "id": "90042237",
   "metadata": {
    "tags": []
   },
   "outputs": [
    {
     "name": "stdout",
     "output_type": "stream",
     "text": [
      "正在检查顶面，注意查看鼠标位置是否准确\n"
     ]
    }
   ],
   "source": [
    "# 检查鼠标位置是否正确\n",
    "cube.check_facets(sides=[0]) "
   ]
  },
  {
   "cell_type": "code",
   "execution_count": 10,
   "id": "872379cb",
   "metadata": {
    "collapsed": true,
    "jupyter": {
     "outputs_hidden": true
    },
    "tags": []
   },
   "outputs": [
    {
     "name": "stdout",
     "output_type": "stream",
     "text": [
      "\n",
      "          |*********|\n",
      "          |*L**L**L*|\n",
      "          |*********|\n",
      "          |*D**U**L*|\n",
      "          |*********|\n",
      "          |*U**F**L*|\n",
      "          |*********|\n",
      " *********|*********|*********|*********\n",
      " *L**L**B*|*L**L**L*|*L**L**L*|*L**F**L*\n",
      " *********|*********|*********|*********\n",
      " *L**L**L*|*U**F**L*|*L**R**F*|*R**B**L*\n",
      " *********|*********|*********|*********\n",
      " *L**L**L*|*L**L**L*|*L**B**B*|*R**D**L*\n",
      " *********|*********|*********|*********\n",
      "          |*********|\n",
      "          |*L**L**L*|\n",
      "          |*********|\n",
      "          |*L**D**R*|\n",
      "          |*********|\n",
      "          |*L**B**U*|\n",
      "          |*********|\n",
      "\n"
     ]
    }
   ],
   "source": [
    "# 获取魔方分布\n",
    "state = cube.get_cube_distribution(string_code=True)\n",
    "# 显示六个面的信息\n",
    "print(expand_cube(state))"
   ]
  },
  {
   "cell_type": "markdown",
   "id": "0c5dd84d",
   "metadata": {},
   "source": [
    "## 操控电脑"
   ]
  },
  {
   "cell_type": "code",
   "execution_count": 11,
   "id": "f04b1f3e",
   "metadata": {},
   "outputs": [
    {
     "name": "stdout",
     "output_type": "stream",
     "text": [
      "当前正在旋转的面为 U\n"
     ]
    }
   ],
   "source": [
    "# 检验基本旋转 -- pyautogui\n",
    "cube.check_basic_moves(facets=\"U\")"
   ]
  },
  {
   "cell_type": "code",
   "execution_count": 12,
   "id": "f84fcd45",
   "metadata": {},
   "outputs": [],
   "source": [
    "# 换心公式\n",
    "cube.shift_center()"
   ]
  },
  {
   "cell_type": "code",
   "execution_count": 13,
   "id": "139fe49a",
   "metadata": {
    "collapsed": true,
    "jupyter": {
     "outputs_hidden": true
    },
    "tags": []
   },
   "outputs": [
    {
     "name": "stdout",
     "output_type": "stream",
     "text": [
      "魔方识别完毕\n"
     ]
    },
    {
     "ename": "ValueError",
     "evalue": "Error. Probably cubestring is invalid",
     "output_type": "error",
     "traceback": [
      "\u001b[1;31m---------------------------------------------------------------------------\u001b[0m",
      "\u001b[1;31mValueError\u001b[0m                                Traceback (most recent call last)",
      "Cell \u001b[1;32mIn[13], line 2\u001b[0m\n\u001b[0;32m      1\u001b[0m \u001b[39m# 自动还原\u001b[39;00m\n\u001b[1;32m----> 2\u001b[0m cube\u001b[39m.\u001b[39;49mauto_solve_cube(wait\u001b[39m=\u001b[39;49m\u001b[39mFalse\u001b[39;49;00m)\n",
      "File \u001b[1;32me:\\BaiduSyncdisk\\python\\rubik_cube.py-master\\src\\rubik.py:43\u001b[0m, in \u001b[0;36mCube.auto_solve_cube\u001b[1;34m(self, wait)\u001b[0m\n\u001b[0;32m     41\u001b[0m cube_code \u001b[39m=\u001b[39m \u001b[39mself\u001b[39m\u001b[39m.\u001b[39mget_cube_distribution(string_code \u001b[39m=\u001b[39m \u001b[39mTrue\u001b[39;00m)\n\u001b[0;32m     42\u001b[0m \u001b[39mprint\u001b[39m(\u001b[39m\"\u001b[39m\u001b[39m魔方识别完毕\u001b[39m\u001b[39m\"\u001b[39m)\n\u001b[1;32m---> 43\u001b[0m solution \u001b[39m=\u001b[39m kb\u001b[39m.\u001b[39;49msolve(cube_code)\u001b[39m.\u001b[39msplit()\n\u001b[0;32m     44\u001b[0m \u001b[39mprint\u001b[39m(\u001b[39m\"\u001b[39m\u001b[39m还原需要 \u001b[39m\u001b[39m%d\u001b[39;00m\u001b[39m 步\u001b[39m\u001b[39m\"\u001b[39m\u001b[39m%\u001b[39m\u001b[39mlen\u001b[39m(solution))\n\u001b[0;32m     45\u001b[0m time\u001b[39m.\u001b[39msleep(\u001b[39m.4\u001b[39m)\n",
      "File \u001b[1;32mc:\\Users\\Hankel\\AppData\\Local\\Programs\\Python\\Python311\\Lib\\site-packages\\kociemba\\__init__.py:61\u001b[0m, in \u001b[0;36msolve\u001b[1;34m(cubestring, patternstring, max_depth)\u001b[0m\n\u001b[0;32m     50\u001b[0m \u001b[39mdef\u001b[39;00m \u001b[39msolve\u001b[39m(cubestring, patternstring\u001b[39m=\u001b[39m\u001b[39mNone\u001b[39;00m, max_depth\u001b[39m=\u001b[39m\u001b[39m24\u001b[39m):\n\u001b[0;32m     51\u001b[0m     \u001b[39m\"\"\"\u001b[39;00m\n\u001b[0;32m     52\u001b[0m \u001b[39m    Solve a Rubik's cube using two-phase algorithm.\u001b[39;00m\n\u001b[0;32m     53\u001b[0m \n\u001b[1;32m   (...)\u001b[0m\n\u001b[0;32m     58\u001b[0m \u001b[39m    u\"R' D2 R' U2 R F2 D B2 U' R F' U R2 D L2 D' B2 R2 B2 U' B2\"\u001b[39;00m\n\u001b[0;32m     59\u001b[0m \u001b[39m    \"\"\"\u001b[39;00m\n\u001b[1;32m---> 61\u001b[0m     \u001b[39mreturn\u001b[39;00m _solve(cubestring, patternstring, max_depth)\n",
      "File \u001b[1;32mc:\\Users\\Hankel\\AppData\\Local\\Programs\\Python\\Python311\\Lib\\site-packages\\kociemba\\__init__.py:18\u001b[0m, in \u001b[0;36m_solve\u001b[1;34m(cube, pattern, max_depth)\u001b[0m\n\u001b[0;32m     16\u001b[0m     \u001b[39mreturn\u001b[39;00m ffi\u001b[39m.\u001b[39mstring(res)\u001b[39m.\u001b[39mstrip()\u001b[39m.\u001b[39mdecode(\u001b[39m'\u001b[39m\u001b[39mutf-8\u001b[39m\u001b[39m'\u001b[39m)\n\u001b[0;32m     17\u001b[0m \u001b[39melse\u001b[39;00m:\n\u001b[1;32m---> 18\u001b[0m     \u001b[39mraise\u001b[39;00m \u001b[39mValueError\u001b[39;00m(\u001b[39m'\u001b[39m\u001b[39mError. Probably cubestring is invalid\u001b[39m\u001b[39m'\u001b[39m)\n",
      "\u001b[1;31mValueError\u001b[0m: Error. Probably cubestring is invalid"
     ]
    }
   ],
   "source": [
    "# 自动还原\n",
    "cube.auto_solve_cube(wait=False)"
   ]
  },
  {
   "cell_type": "code",
   "execution_count": 14,
   "id": "935b2189",
   "metadata": {
    "tags": []
   },
   "outputs": [
    {
     "name": "stdout",
     "output_type": "stream",
     "text": [
      "魔方识别完毕\n"
     ]
    },
    {
     "ename": "ValueError",
     "evalue": "Error. Probably cubestring is invalid",
     "output_type": "error",
     "traceback": [
      "\u001b[1;31m---------------------------------------------------------------------------\u001b[0m",
      "\u001b[1;31mValueError\u001b[0m                                Traceback (most recent call last)",
      "Cell \u001b[1;32mIn[14], line 3\u001b[0m\n\u001b[0;32m      1\u001b[0m \u001b[39m# 设置低延时\u001b[39;00m\n\u001b[0;32m      2\u001b[0m cube\u001b[39m.\u001b[39minterval \u001b[39m=\u001b[39m \u001b[39m0.100000001\u001b[39m\n\u001b[1;32m----> 3\u001b[0m cube\u001b[39m.\u001b[39;49mauto_solve_cube(wait\u001b[39m=\u001b[39;49m\u001b[39mFalse\u001b[39;49;00m)\n",
      "File \u001b[1;32me:\\BaiduSyncdisk\\python\\rubik_cube.py-master\\src\\rubik.py:43\u001b[0m, in \u001b[0;36mCube.auto_solve_cube\u001b[1;34m(self, wait)\u001b[0m\n\u001b[0;32m     41\u001b[0m cube_code \u001b[39m=\u001b[39m \u001b[39mself\u001b[39m\u001b[39m.\u001b[39mget_cube_distribution(string_code \u001b[39m=\u001b[39m \u001b[39mTrue\u001b[39;00m)\n\u001b[0;32m     42\u001b[0m \u001b[39mprint\u001b[39m(\u001b[39m\"\u001b[39m\u001b[39m魔方识别完毕\u001b[39m\u001b[39m\"\u001b[39m)\n\u001b[1;32m---> 43\u001b[0m solution \u001b[39m=\u001b[39m kb\u001b[39m.\u001b[39;49msolve(cube_code)\u001b[39m.\u001b[39msplit()\n\u001b[0;32m     44\u001b[0m \u001b[39mprint\u001b[39m(\u001b[39m\"\u001b[39m\u001b[39m还原需要 \u001b[39m\u001b[39m%d\u001b[39;00m\u001b[39m 步\u001b[39m\u001b[39m\"\u001b[39m\u001b[39m%\u001b[39m\u001b[39mlen\u001b[39m(solution))\n\u001b[0;32m     45\u001b[0m time\u001b[39m.\u001b[39msleep(\u001b[39m.4\u001b[39m)\n",
      "File \u001b[1;32mc:\\Users\\Hankel\\AppData\\Local\\Programs\\Python\\Python311\\Lib\\site-packages\\kociemba\\__init__.py:61\u001b[0m, in \u001b[0;36msolve\u001b[1;34m(cubestring, patternstring, max_depth)\u001b[0m\n\u001b[0;32m     50\u001b[0m \u001b[39mdef\u001b[39;00m \u001b[39msolve\u001b[39m(cubestring, patternstring\u001b[39m=\u001b[39m\u001b[39mNone\u001b[39;00m, max_depth\u001b[39m=\u001b[39m\u001b[39m24\u001b[39m):\n\u001b[0;32m     51\u001b[0m     \u001b[39m\"\"\"\u001b[39;00m\n\u001b[0;32m     52\u001b[0m \u001b[39m    Solve a Rubik's cube using two-phase algorithm.\u001b[39;00m\n\u001b[0;32m     53\u001b[0m \n\u001b[1;32m   (...)\u001b[0m\n\u001b[0;32m     58\u001b[0m \u001b[39m    u\"R' D2 R' U2 R F2 D B2 U' R F' U R2 D L2 D' B2 R2 B2 U' B2\"\u001b[39;00m\n\u001b[0;32m     59\u001b[0m \u001b[39m    \"\"\"\u001b[39;00m\n\u001b[1;32m---> 61\u001b[0m     \u001b[39mreturn\u001b[39;00m _solve(cubestring, patternstring, max_depth)\n",
      "File \u001b[1;32mc:\\Users\\Hankel\\AppData\\Local\\Programs\\Python\\Python311\\Lib\\site-packages\\kociemba\\__init__.py:18\u001b[0m, in \u001b[0;36m_solve\u001b[1;34m(cube, pattern, max_depth)\u001b[0m\n\u001b[0;32m     16\u001b[0m     \u001b[39mreturn\u001b[39;00m ffi\u001b[39m.\u001b[39mstring(res)\u001b[39m.\u001b[39mstrip()\u001b[39m.\u001b[39mdecode(\u001b[39m'\u001b[39m\u001b[39mutf-8\u001b[39m\u001b[39m'\u001b[39m)\n\u001b[0;32m     17\u001b[0m \u001b[39melse\u001b[39;00m:\n\u001b[1;32m---> 18\u001b[0m     \u001b[39mraise\u001b[39;00m \u001b[39mValueError\u001b[39;00m(\u001b[39m'\u001b[39m\u001b[39mError. Probably cubestring is invalid\u001b[39m\u001b[39m'\u001b[39m)\n",
      "\u001b[1;31mValueError\u001b[0m: Error. Probably cubestring is invalid"
     ]
    }
   ],
   "source": [
    "# 设置低延时\n",
    "cube.interval = 0.100000001\n",
    "cube.auto_solve_cube(wait=False)"
   ]
  },
  {
   "cell_type": "markdown",
   "id": "4a25b0d9",
   "metadata": {},
   "source": [
    "## 构造给定图案"
   ]
  },
  {
   "cell_type": "code",
   "execution_count": 15,
   "id": "45c517c9",
   "metadata": {
    "collapsed": true,
    "jupyter": {
     "outputs_hidden": true
    },
    "tags": []
   },
   "outputs": [
    {
     "ename": "ValueError",
     "evalue": "Error. Probably cubestring is invalid",
     "output_type": "error",
     "traceback": [
      "\u001b[1;31m---------------------------------------------------------------------------\u001b[0m",
      "\u001b[1;31mValueError\u001b[0m                                Traceback (most recent call last)",
      "Cell \u001b[1;32mIn[15], line 3\u001b[0m\n\u001b[0;32m      1\u001b[0m \u001b[39m# 演示效果\u001b[39;00m\n\u001b[0;32m      2\u001b[0m state \u001b[39m=\u001b[39m \u001b[39m\"\u001b[39m\u001b[39mDUDUUUDUDBRBRRRBRBLFLFFFLFLUDUDDDUDUFLFLLLFLFRBRBBBRBR\u001b[39m\u001b[39m\"\u001b[39m\n\u001b[1;32m----> 3\u001b[0m cube\u001b[39m.\u001b[39;49mto_cube_state(state)\n",
      "File \u001b[1;32me:\\BaiduSyncdisk\\python\\rubik_cube.py-master\\src\\rubik.py:204\u001b[0m, in \u001b[0;36mCube.to_cube_state\u001b[1;34m(self, state)\u001b[0m\n\u001b[0;32m    202\u001b[0m \u001b[39m# 当前状态\u001b[39;00m\n\u001b[0;32m    203\u001b[0m curstate \u001b[39m=\u001b[39m \u001b[39mself\u001b[39m\u001b[39m.\u001b[39mget_cube_distribution(string_code \u001b[39m=\u001b[39m \u001b[39mTrue\u001b[39;00m)\n\u001b[1;32m--> 204\u001b[0m cursol \u001b[39m=\u001b[39m kb\u001b[39m.\u001b[39;49msolve(curstate)\u001b[39m.\u001b[39msplit()[::\u001b[39m-\u001b[39m\u001b[39m1\u001b[39m] \u001b[39m# 当前解法(作用从左到右，需反转)\u001b[39;00m\n\u001b[0;32m    205\u001b[0m curact \u001b[39m=\u001b[39m GroupElement(\u001b[39m'\u001b[39m\u001b[39m'\u001b[39m\u001b[39m.\u001b[39mjoin(cursol)) \u001b[39m# 转化为群元素 action\u001b[39;00m\n\u001b[0;32m    206\u001b[0m \u001b[39m# 目标状态\u001b[39;00m\n",
      "File \u001b[1;32mc:\\Users\\Hankel\\AppData\\Local\\Programs\\Python\\Python311\\Lib\\site-packages\\kociemba\\__init__.py:61\u001b[0m, in \u001b[0;36msolve\u001b[1;34m(cubestring, patternstring, max_depth)\u001b[0m\n\u001b[0;32m     50\u001b[0m \u001b[39mdef\u001b[39;00m \u001b[39msolve\u001b[39m(cubestring, patternstring\u001b[39m=\u001b[39m\u001b[39mNone\u001b[39;00m, max_depth\u001b[39m=\u001b[39m\u001b[39m24\u001b[39m):\n\u001b[0;32m     51\u001b[0m     \u001b[39m\"\"\"\u001b[39;00m\n\u001b[0;32m     52\u001b[0m \u001b[39m    Solve a Rubik's cube using two-phase algorithm.\u001b[39;00m\n\u001b[0;32m     53\u001b[0m \n\u001b[1;32m   (...)\u001b[0m\n\u001b[0;32m     58\u001b[0m \u001b[39m    u\"R' D2 R' U2 R F2 D B2 U' R F' U R2 D L2 D' B2 R2 B2 U' B2\"\u001b[39;00m\n\u001b[0;32m     59\u001b[0m \u001b[39m    \"\"\"\u001b[39;00m\n\u001b[1;32m---> 61\u001b[0m     \u001b[39mreturn\u001b[39;00m _solve(cubestring, patternstring, max_depth)\n",
      "File \u001b[1;32mc:\\Users\\Hankel\\AppData\\Local\\Programs\\Python\\Python311\\Lib\\site-packages\\kociemba\\__init__.py:18\u001b[0m, in \u001b[0;36m_solve\u001b[1;34m(cube, pattern, max_depth)\u001b[0m\n\u001b[0;32m     16\u001b[0m     \u001b[39mreturn\u001b[39;00m ffi\u001b[39m.\u001b[39mstring(res)\u001b[39m.\u001b[39mstrip()\u001b[39m.\u001b[39mdecode(\u001b[39m'\u001b[39m\u001b[39mutf-8\u001b[39m\u001b[39m'\u001b[39m)\n\u001b[0;32m     17\u001b[0m \u001b[39melse\u001b[39;00m:\n\u001b[1;32m---> 18\u001b[0m     \u001b[39mraise\u001b[39;00m \u001b[39mValueError\u001b[39;00m(\u001b[39m'\u001b[39m\u001b[39mError. Probably cubestring is invalid\u001b[39m\u001b[39m'\u001b[39m)\n",
      "\u001b[1;31mValueError\u001b[0m: Error. Probably cubestring is invalid"
     ]
    }
   ],
   "source": [
    "# 演示效果\n",
    "state = \"DUDUUUDUDBRBRRRBRBLFLFFFLFLUDUDDDUDUFLFLLLFLFRBRBBBRBR\"\n",
    "cube.to_cube_state(state)"
   ]
  },
  {
   "cell_type": "code",
   "execution_count": 16,
   "id": "c63777fb-cdf5-4ccf-92c7-800ca31f7944",
   "metadata": {},
   "outputs": [
    {
     "ename": "NameError",
     "evalue": "name 'f' is not defined",
     "output_type": "error",
     "traceback": [
      "\u001b[1;31m---------------------------------------------------------------------------\u001b[0m",
      "\u001b[1;31mNameError\u001b[0m                                 Traceback (most recent call last)",
      "Cell \u001b[1;32mIn[16], line 1\u001b[0m\n\u001b[1;32m----> 1\u001b[0m f \u001b[39m*\u001b[39m g\n",
      "\u001b[1;31mNameError\u001b[0m: name 'f' is not defined"
     ]
    }
   ],
   "source": [
    "f * g"
   ]
  },
  {
   "cell_type": "markdown",
   "id": "645d560c",
   "metadata": {
    "tags": []
   },
   "source": [
    "### 关于魔方群\n",
    "1. **广义魔方群**：\n",
    "    $$\n",
    "    (C_2^{12}\\rtimes S_{12}) \\times (C_3^{8}\\rtimes S_{8})\n",
    "    $$\n",
    " \n",
    "    注：(棱块群) 直积 (角块群)\n",
    "\n",
    "2. **魔方群**：六个基本旋转生成，广义魔方群的真子群。\n",
    "\n",
    "    注：实际上只用四个旋转就能生成魔方群了\n",
    "   \n",
    "3. 上帝之数 = 20"
   ]
  },
  {
   "cell_type": "code",
   "execution_count": 20,
   "id": "27dd619b",
   "metadata": {},
   "outputs": [
    {
     "data": {
      "text/plain": [
       "519024039293878272000"
      ]
     },
     "execution_count": 20,
     "metadata": {},
     "output_type": "execute_result"
    }
   ],
   "source": [
    "from math import factorial\n",
    "2**12 * factorial(12) * 3 ** 8 * factorial(8)"
   ]
  },
  {
   "cell_type": "markdown",
   "id": "6eded81f",
   "metadata": {
    "tags": []
   },
   "source": [
    "### 构造方法\n",
    "\n",
    "1. Kociemba 算法（2-phase algorithm）\n",
    "\n",
    "2. 广义魔方群 <=> 魔方状态\n",
    "   $$\n",
    "   \\begin{align*}\n",
    "   Magic\\ Group\\ G&\\rightarrow\\ \\{states\\ of \\ Rubik's\\ Cube\\}\\\\\n",
    "   f&\\mapsto f(I)\n",
    "   \\end{align*}\n",
    "   $$\n",
    "\n",
    "3. 魔方还原，本质上是求 状态 $S$ 的可逆元 $f$，并将 $f$ 写成基本旋转的组合。\n",
    "   $$\n",
    "   S \\Rightarrow f(S) = I \\Rightarrow f\\cdot S = I\n",
    "   $$\n",
    "\n",
    "4. 借助群作用，扩展 Kociemba 算法的应用范围\n",
    "   $$\n",
    "   \\begin{align*}\n",
    "   &f_1\\cdot S_{current} = I\\\\\n",
    "   &f_2\\cdot S_{target} = I\\\\\n",
    "   &\\Rightarrow S_{target} = f_2^{-1} = f_2^{-1}\\cdot f_1\\cdot S_{current}\\\\\n",
    "   &\\Rightarrow f_2^{-1}\\cdot f_1 S_{mix} = I,\\ where\\ S_{mix} = f_1^{-1}\\cdot f_2\n",
    "   \\end{align*}\n",
    "   $$\n",
    "\n",
    "简言之：将状态 $S_{current}\\Rightarrow S_{target}$ 转化为普通的魔方还原问题 $S_{mix} \\Rightarrow I$."
   ]
  }
 ],
 "metadata": {
  "kernelspec": {
   "display_name": "Python 3.11.0 64-bit",
   "language": "python",
   "name": "python3"
  },
  "language_info": {
   "codemirror_mode": {
    "name": "ipython",
    "version": 3
   },
   "file_extension": ".py",
   "mimetype": "text/x-python",
   "name": "python",
   "nbconvert_exporter": "python",
   "pygments_lexer": "ipython3",
   "version": "3.11.0 (main, Oct 24 2022, 18:26:48) [MSC v.1933 64 bit (AMD64)]"
  },
  "vscode": {
   "interpreter": {
    "hash": "c85205b98c181bfde75ad8c166021130d0204d36cde05c8759c93c66eb388607"
   }
  }
 },
 "nbformat": 4,
 "nbformat_minor": 5
}
