{
 "cells": [
  {
   "attachments": {},
   "cell_type": "markdown",
   "metadata": {},
   "source": [
    "### 1. 数组创建\n",
    "#### 1.1 利用array函数创建数组"
   ]
  },
  {
   "cell_type": "code",
   "execution_count": 2,
   "metadata": {},
   "outputs": [
    {
     "name": "stdout",
     "output_type": "stream",
     "text": [
      "一维数组: [ 2  4  8 20 16 30]\n",
      "二维数组:\n",
      " [[ 1.  2.  3.  4.  5.]\n",
      " [ 6.  7.  8.  9. 10.]\n",
      " [10.  9.  1.  2.  3.]\n",
      " [ 4.  5.  6.  8.  9.]]\n"
     ]
    }
   ],
   "source": [
    "import numpy as np\n",
    "\n",
    "a = np.array([2, 4, 8, 20, 16, 30])\n",
    "b = np.array(((1, 2, 3, 4, 5), (6, 7, 8, 9, 10), (10, 9, 1, 2, 3), (4, 5, 6, 8, 9.0)))\n",
    "print(\"一维数组:\", a)\n",
    "print(\"二维数组:\\n\", b)\n"
   ]
  },
  {
   "attachments": {},
   "cell_type": "markdown",
   "metadata": {},
   "source": [
    "如上述结果所示，可以将**列表或元组**转换为一个数组.在第二个数组b中，输入的元素含有整型和浮点型两种数据类型，但输出的数组元素都转化为**相同的浮点型**。"
   ]
  },
  {
   "attachments": {},
   "cell_type": "markdown",
   "metadata": {},
   "source": [
    "#### 1.2 利用arrange,empty,linspace等函数生成数组"
   ]
  },
  {
   "cell_type": "code",
   "execution_count": 7,
   "metadata": {},
   "outputs": [
    {
     "name": "stdout",
     "output_type": "stream",
     "text": [
      "[0. 1. 2. 3.] [0 2 4 6 8]\n"
     ]
    }
   ],
   "source": [
    "a1 = np.arange(4, dtype=float)  # 创建浮点型数组\n",
    "b1 = np.arange(0, 10, 2, dtype=int)    # 创建整形数组\n",
    "print(a1, b1)"
   ]
  },
  {
   "cell_type": "code",
   "execution_count": 8,
   "metadata": {},
   "outputs": [
    {
     "name": "stdout",
     "output_type": "stream",
     "text": [
      "[[         0 1072693248          0]\n",
      " [1073741824          0 1074266112]]\n"
     ]
    }
   ],
   "source": [
    "c1 = np.empty((2, 3), int)  # 创建2x3的整形空矩阵\n",
    "print(c1)"
   ]
  },
  {
   "attachments": {},
   "cell_type": "markdown",
   "metadata": {},
   "source": [
    "详解：empty()调用格式为((rows, cols), dtype)\n",
    "\n",
    "*empty*不像*zeros*一样，并不会将数组的元素值设定为0，因此运行起来可能快一些。在另一方面，它要求用户人为地给数组中的每一个元素赋值，所以应该谨慎使用。"
   ]
  },
  {
   "cell_type": "code",
   "execution_count": 9,
   "metadata": {},
   "outputs": [
    {
     "name": "stdout",
     "output_type": "stream",
     "text": [
      "[-1.   -0.25  0.5   1.25  2.  ] [[0 2 0]\n",
      " [1 0 2]]\n"
     ]
    }
   ],
   "source": [
    "d1 = np.linspace(-1, 2, 5)\n",
    "e1 = np.random.randint(0, 3, (2, 3))\n",
    "print(d1, e1)"
   ]
  },
  {
   "attachments": {},
   "cell_type": "markdown",
   "metadata": {},
   "source": [
    "详解：arrange(),linspace(),random.randint()调用格式都为(start_value, stop_value, num, dtype)"
   ]
  },
  {
   "attachments": {},
   "cell_type": "markdown",
   "metadata": {},
   "source": [
    "#### 1.3 使用虚数单位\"j\"生成数组"
   ]
  },
  {
   "cell_type": "code",
   "execution_count": 11,
   "metadata": {},
   "outputs": [
    {
     "name": "stdout",
     "output_type": "stream",
     "text": [
      "[0.  0.5 1.  1.5 2. ]\n",
      "x=[[0.         0.         0.         0.         0.        ]\n",
      " [0.66666667 0.66666667 0.66666667 0.66666667 0.66666667]\n",
      " [1.33333333 1.33333333 1.33333333 1.33333333 1.33333333]\n",
      " [2.         2.         2.         2.         2.        ]]\n",
      "y=[[10.  12.5 15.  17.5 20. ]\n",
      " [10.  12.5 15.  17.5 20. ]\n",
      " [10.  12.5 15.  17.5 20. ]\n",
      " [10.  12.5 15.  17.5 20. ]]\n"
     ]
    }
   ],
   "source": [
    "a = np.linspace(0, 2, 5)\n",
    "b = np.mgrid[0:2:5j]\n",
    "x,y = np.mgrid[0:2:4j, 10:20:5j]\n",
    "print(a)\n",
    "print(\"x={}\\ny={}\".format(x, y))\n"
   ]
  },
  {
   "attachments": {},
   "cell_type": "markdown",
   "metadata": {},
   "source": [
    "详解：此方法用到了mgrid函数，\n",
    "\n",
    "##### 1.3.1 mgrid()详解\n",
    "基本调用格式为：np.mgrid(start:stop:step), stop:结束坐标（实数不包括，复数包括）\n",
    "\n",
    "\n"
   ]
  },
  {
   "cell_type": "code",
   "execution_count": null,
   "metadata": {},
   "outputs": [],
   "source": []
  },
  {
   "cell_type": "code",
   "execution_count": 1,
   "metadata": {},
   "outputs": [
    {
     "name": "stdout",
     "output_type": "stream",
     "text": [
      "[[ 0  1  2  3  4  5  6  7  8  9 10 11 12 13 14]\n",
      " [ 0  2  4  6  8 10 12 14 16 18 20 22 24 26 28]]\n",
      "[[ 0  1  2  3  4  5  6  7  8  9 10 11 12 13 14]\n",
      " [ 0  2  4  6  8 10 12 14 16 18 20 22 24 26 28]]\n",
      "[ 0  1  2  3  4  5  6  7  8  9 10 11 12 13 14  0  2  4  6  8 10 12 14 16\n",
      " 18 20 22 24 26 28]\n"
     ]
    },
    {
     "data": {
      "image/png": "[encoded data removed]",
      "text/plain": [
       "<Figure size 640x480 with 1 Axes>"
      ]
     },
     "metadata": {},
     "output_type": "display_data"
    }
   ],
   "source": [
    "import numpy as np\n",
    "import matplotlib.pyplot as plt\n",
    "%matplotlib inline\n",
    "\n",
    "a = np.arange(0,15)\n",
    "b = 2*a\n",
    "c = np.stack((a,b))\n",
    "d = np.vstack((a,b))                     \n",
    "e = np.hstack((a,b))\n",
    "print(c)\n",
    "print(d)\n",
    "print(e)\n",
    "plt.plot(c[0],c[1],color='red')\n",
    "plt.savefig('stack.png')"
   ]
  },
  {
   "cell_type": "code",
   "execution_count": 1,
   "metadata": {},
   "outputs": [
    {
     "name": "stdout",
     "output_type": "stream",
     "text": [
      "维数是： 3\n"
     ]
    }
   ],
   "source": [
    "# 构建一个三维数组，即维数为3\n",
    "import numpy as np\n",
    "\n",
    "arry = np.array([[[1, 2, 3],\n",
    "               [4, 5, 6]],\n",
    "              [[1, 2, 3],\n",
    "               [4, 5, 6]]])\n",
    "               \n",
    "print(\"维数是：\", arry.ndim)"
   ]
  },
  {
   "cell_type": "code",
   "execution_count": 10,
   "metadata": {},
   "outputs": [
    {
     "name": "stdout",
     "output_type": "stream",
     "text": [
      "dd\n"
     ]
    }
   ],
   "source": []
  },
  {
   "cell_type": "code",
   "execution_count": null,
   "metadata": {},
   "outputs": [],
   "source": []
  }
 ],
 "metadata": {
  "kernelspec": {
   "display_name": "Python 3",
   "language": "python",
   "name": "python3"
  },
  "language_info": {
   "codemirror_mode": {
    "name": "ipython",
    "version": 3
   },
   "file_extension": ".py",
   "mimetype": "text/x-python",
   "name": "python",
   "nbconvert_exporter": "python",
   "pygments_lexer": "ipython3",
   "version": "3.11.0 (main, Oct 24 2022, 18:26:48) [MSC v.1933 64 bit (AMD64)]"
  },
  "orig_nbformat": 4,
  "vscode": {
   "interpreter": {
    "hash": "c85205b98c181bfde75ad8c166021130d0204d36cde05c8759c93c66eb388607"
   }
  }
 },
 "nbformat": 4,
 "nbformat_minor": 2
}
