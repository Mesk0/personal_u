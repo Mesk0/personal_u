{
 "cells": [
  {
   "attachments": {},
   "cell_type": "markdown",
   "metadata": {},
   "source": [
    "## Sympy\n",
    "### PymPy工具库简介\n",
    "SymPy是Python版的开源计算机代数系统实现，通俗地讲，SymPy是用于符号运算的工具库，现在这个工具库包括数十个模块，使用命令`help(''sympy'')`可以看到这些模块的名称，常用的模块有:\n",
    "\n",
    "* abc：符号变量模块；\n",
    "* calculus：积分相关方法；\n",
    "* core：基本的加、乘、指数运算等；\n",
    "* discrete：离散数学，\n",
    "* functions：基本的函数和特殊函数；\n",
    "* galgebra：几何代数；\n",
    "* geometry：几何实体；\n",
    "* integrals：符号积分；\n",
    "* interactive：交互会话（如IPython);\n",
    "* logic：布尔代数和定理证明；\n",
    "* matrices：线性代数和矩阵；\n",
    "* ntheory：数论函数；\n",
    "* physics：物理学；\n",
    "* plotting：用Pyglet进行二维和三维的画图；\n",
    "* polys：多项式代数和因式分解；\n",
    "* printing：漂亮的打印和代码生成\n",
    "* series：级数；\n",
    "* simplify：化简符号表达式；\n",
    "* solvers：方程求解；\n",
    "* stats：统计学."
   ]
  }
 ],
 "metadata": {
  "kernelspec": {
   "display_name": "Python 3",
   "language": "python",
   "name": "python3"
  },
  "language_info": {
   "name": "python",
   "version": "3.11.0"
  },
  "orig_nbformat": 4,
  "vscode": {
   "interpreter": {
    "hash": "c85205b98c181bfde75ad8c166021130d0204d36cde05c8759c93c66eb388607"
   }
  }
 },
 "nbformat": 4,
 "nbformat_minor": 2
}
