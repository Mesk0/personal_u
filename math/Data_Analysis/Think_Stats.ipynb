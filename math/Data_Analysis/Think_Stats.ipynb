{
 "cells": [
  {
   "attachments": {},
   "cell_type": "markdown",
   "metadata": {},
   "source": [
    "# Think Stats\n",
    "主要涉及学科:\n",
    "* 概率论\n",
    "\n",
    "主要研究随机事件。本书会介绍如何量化这种可能性。\n",
    "* 统计学\n",
    "\n",
    "统计学旨在根据数据样本推测总情况。\n",
    "* 计算\n",
    "\n",
    "量化分析的最佳工具。"
   ]
  },
  {
   "attachments": {},
   "cell_type": "markdown",
   "metadata": {},
   "source": [
    "## 1.1第一个孩子出生晚吗\n",
    "经验之谈的缺陷:\n",
    "- 观察的数量太少\n",
    "\n",
    "第一胎婴儿的妊娠期比较长， 但这种差异可能在自然波动范围内。\n",
    "这种情况下， 我们需要比较大量孕妇的妊娠期数据才能判断这种差\n",
    "异是否真的存在。\n",
    "- 选择偏差\n",
    "\n",
    "第一胎婴儿出生比较晚的父母会更有兴趣加入这样的讨论。 这种对\n",
    "数据进行选择的过程就会导致结果不准确\n",
    "- 确认偏差\n",
    "\n",
    "相信这种说法的人会提供支持示例， 而怀疑这种说法的人则会引用\n",
    "反例\n",
    "- 不准确\n",
    "\n",
    "传闻通常都是个人的经历， 在记忆、 表述和复述等方面都会不准\n",
    "确。"
   ]
  }
 ],
 "metadata": {
  "kernelspec": {
   "display_name": "Python 3",
   "language": "python",
   "name": "python3"
  },
  "language_info": {
   "name": "python",
   "version": "3.11.0 (main, Oct 24 2022, 18:26:48) [MSC v.1933 64 bit (AMD64)]"
  },
  "orig_nbformat": 4,
  "vscode": {
   "interpreter": {
    "hash": "c85205b98c181bfde75ad8c166021130d0204d36cde05c8759c93c66eb388607"
   }
  }
 },
 "nbformat": 4,
 "nbformat_minor": 2
}
